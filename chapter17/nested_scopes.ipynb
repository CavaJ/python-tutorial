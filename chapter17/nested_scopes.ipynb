{
 "cells": [
  {
   "cell_type": "code",
   "execution_count": 44,
   "metadata": {},
   "outputs": [
    {
     "name": "stdout",
     "output_type": "stream",
     "text": [
      "88\n",
      "Wall time: 0 ns\n"
     ]
    }
   ],
   "source": [
    "%%time\n",
    "\n",
    "def f1():\n",
    "    X = 88\n",
    "    def f2():\n",
    "        print(X)\n",
    "    return f2\n",
    "\n",
    "action = f1()\n",
    "action()"
   ]
  },
  {
   "cell_type": "code",
   "execution_count": 45,
   "metadata": {},
   "outputs": [
    {
     "name": "stdout",
     "output_type": "stream",
     "text": [
      "9\n",
      "16\n",
      "Wall time: 0 ns\n"
     ]
    }
   ],
   "source": [
    "%%time\n",
    "\n",
    "def maker(N):\n",
    "    def action(X):\n",
    "        return X ** N\n",
    "    return action\n",
    "\n",
    "f = maker(2)\n",
    "print(f(3))\n",
    "print(f(4))"
   ]
  },
  {
   "cell_type": "code",
   "execution_count": null,
   "metadata": {},
   "outputs": [],
   "source": [
    "%%time\n",
    "\n",
    "def maker(N):\n",
    "    return lambda X : X ** N\n",
    "\n",
    "h = maker(3)\n",
    "print(h(4))"
   ]
  },
  {
   "cell_type": "code",
   "execution_count": null,
   "metadata": {},
   "outputs": [],
   "source": [
    "%time\n",
    "\n",
    "def f1():\n",
    "    x = 88\n",
    "    def f2(x=x):\n",
    "        print(x)\n",
    "    f2()\n",
    "f1()"
   ]
  },
  {
   "cell_type": "code",
   "execution_count": null,
   "metadata": {},
   "outputs": [],
   "source": [
    "def f1():\n",
    "    x = 88\n",
    "    f2(x)\n",
    "\n",
    "def f2(x):\n",
    "    print(x)\n",
    "\n",
    "f1()"
   ]
  },
  {
   "cell_type": "code",
   "execution_count": null,
   "metadata": {},
   "outputs": [],
   "source": [
    "def func():\n",
    "    x = 4\n",
    "    action = (lambda n: x ** n)\n",
    "    return action\n",
    "\n",
    "x = func()\n",
    "print(x(2))"
   ]
  },
  {
   "cell_type": "code",
   "execution_count": null,
   "metadata": {},
   "outputs": [],
   "source": [
    "def func():\n",
    "    x = 4\n",
    "    action = (lambda n, x = x: x ** n)\n",
    "    return action\n",
    "\n",
    "x = func()\n",
    "print(x(2))"
   ]
  },
  {
   "cell_type": "code",
   "execution_count": null,
   "metadata": {},
   "outputs": [],
   "source": [
    "def makeActions():\n",
    "    acts = []\n",
    "    for i in range(5):\n",
    "        acts.append(lambda x: i ** x)\n",
    "    return acts\n",
    "\n",
    "acts = makeActions()\n",
    "print(acts[0](2))\n",
    "print(acts[1](2))\n",
    "print(acts[2](2))\n",
    "print(acts[3](2))\n",
    "print(acts[4](2))"
   ]
  },
  {
   "cell_type": "code",
   "execution_count": null,
   "metadata": {},
   "outputs": [],
   "source": [
    "def makeActions():\n",
    "    acts = []\n",
    "    for i in range(5):\n",
    "        acts.append(lambda x, i=i: i ** x)\n",
    "    return acts\n",
    "\n",
    "acts = makeActions()\n",
    "print(acts[0](2))\n",
    "print(acts[1](2))\n",
    "print(acts[2](2))\n",
    "print(acts[3](2))\n",
    "print(acts[4](2))"
   ]
  },
  {
   "cell_type": "code",
   "execution_count": null,
   "metadata": {},
   "outputs": [],
   "source": [
    "name1='john'\n",
    "name2='nash'\n",
    "\n",
    "def func():\n",
    "    nonlocal name1, name2"
   ]
  },
  {
   "cell_type": "code",
   "execution_count": null,
   "metadata": {},
   "outputs": [],
   "source": [
    "def func1():\n",
    "    name1='john'\n",
    "    name2='nash'\n",
    "    def func2():\n",
    "        nonlocal name1, name2"
   ]
  },
  {
   "cell_type": "code",
   "execution_count": null,
   "metadata": {},
   "outputs": [],
   "source": [
    "# names cannot be created in an enclosing scope by nonlocal (unlike the behavior of the global), for nonlocal assignment,\n",
    "# the name must exist in a an enclosing scope\n",
    "def func1():\n",
    "    #x = 'old'\n",
    "    def func2():\n",
    "        nonlocal x; x = 'new'\n",
    "        print(x)\n",
    "    func2()\n",
    "    print(x)\n",
    "\n",
    "func1()"
   ]
  },
  {
   "cell_type": "code",
   "execution_count": null,
   "metadata": {},
   "outputs": [],
   "source": [
    "def tester(start):\n",
    "    state=start\n",
    "    def nested(label):\n",
    "        print(label, state) # access nonlocal variable in an enclosing scope\n",
    "    return nested\n",
    "\n",
    "f = tester(0)\n",
    "f('spam')\n",
    "f('ham')"
   ]
  },
  {
   "cell_type": "code",
   "execution_count": null,
   "metadata": {},
   "outputs": [],
   "source": [
    "def tester(start):\n",
    "    state=start\n",
    "    def nested(label):\n",
    "        print(label, state) # access nonlocal variable in an enclosing scope\n",
    "        state += 1 # tries to change the value of the nonlocal variable, causes UnboundLocalError\n",
    "    return nested\n",
    "\n",
    "f = tester(0)\n",
    "f('spam')\n",
    "f('ham')"
   ]
  },
  {
   "cell_type": "code",
   "execution_count": null,
   "metadata": {},
   "outputs": [],
   "source": [
    "def tester(start):\n",
    "    state=start\n",
    "    def nested(label):\n",
    "        nonlocal state\n",
    "        print(label, state) # access nonlocal variable in an enclosing scope\n",
    "        state += 1 # tries to change the value of the nonlocal variable\n",
    "    return nested\n",
    "\n",
    "f = tester(0)\n",
    "f('spam')\n",
    "f('ham')\n",
    "f('eggs')\n",
    "\n",
    "\n",
    "g = tester(42)\n",
    "g('spam')\n",
    "g('eggs')\n",
    "f('bacon')"
   ]
  },
  {
   "cell_type": "code",
   "execution_count": 43,
   "metadata": {},
   "outputs": [
    {
     "name": "stdout",
     "output_type": "stream",
     "text": [
      "spam 0\n"
     ]
    },
    {
     "ename": "AttributeError",
     "evalue": "'function' object has no attribute 'state'",
     "output_type": "error",
     "traceback": [
      "\u001b[1;31m---------------------------------------------------------------------------\u001b[0m",
      "\u001b[1;31mAttributeError\u001b[0m                            Traceback (most recent call last)",
      "\u001b[1;32m<ipython-input-43-94b483984ca3>\u001b[0m in \u001b[0;36m<module>\u001b[1;34m\u001b[0m\n\u001b[0;32m     10\u001b[0m \u001b[0mf\u001b[0m\u001b[1;33m(\u001b[0m\u001b[1;34m'spam'\u001b[0m\u001b[1;33m)\u001b[0m\u001b[1;33m\u001b[0m\u001b[1;33m\u001b[0m\u001b[0m\n\u001b[0;32m     11\u001b[0m \u001b[1;33m\u001b[0m\u001b[0m\n\u001b[1;32m---> 12\u001b[1;33m \u001b[0mf\u001b[0m\u001b[1;33m.\u001b[0m\u001b[0mstate\u001b[0m\u001b[1;33m\u001b[0m\u001b[1;33m\u001b[0m\u001b[0m\n\u001b[0m",
      "\u001b[1;31mAttributeError\u001b[0m: 'function' object has no attribute 'state'"
     ]
    }
   ],
   "source": [
    "def tester(start):\n",
    "    state=start\n",
    "    def nested(label):\n",
    "        nonlocal state\n",
    "        print(label, state) # access nonlocal variable in an enclosing scope\n",
    "        state += 1 # tries to change the value of the nonlocal variable\n",
    "    return nested\n",
    "\n",
    "f = tester(0)\n",
    "f('spam')\n",
    "\n",
    "f.state"
   ]
  },
  {
   "cell_type": "code",
   "execution_count": 46,
   "metadata": {},
   "outputs": [
    {
     "name": "stdout",
     "output_type": "stream",
     "text": [
      "spam\n"
     ]
    }
   ],
   "source": [
    "def func():\n",
    "    print('spam')\n",
    "\n",
    "func()"
   ]
  },
  {
   "cell_type": "code",
   "execution_count": 48,
   "metadata": {},
   "outputs": [
    {
     "name": "stdout",
     "output_type": "stream",
     "text": [
      "spam 0\n",
      "ham 1\n",
      "toast 42\n",
      "bacon 43\n",
      "eggs 2\n"
     ]
    },
    {
     "data": {
      "text/plain": [
       "3"
      ]
     },
     "execution_count": 48,
     "metadata": {},
     "output_type": "execute_result"
    }
   ],
   "source": [
    "class tester:\n",
    "    def __init__(self, start):\n",
    "        self.state = start\n",
    "    def nested(self, label):\n",
    "        print(label, self.state)\n",
    "        self.state += 1\n",
    "\n",
    "F = tester(0)\n",
    "F.nested('spam')\n",
    "F.nested('ham')\n",
    "\n",
    "G = tester(42)\n",
    "G.nested('toast')\n",
    "G.nested('bacon')\n",
    "\n",
    "F.nested('eggs')\n",
    "F.state"
   ]
  },
  {
   "cell_type": "code",
   "execution_count": 51,
   "metadata": {},
   "outputs": [
    {
     "name": "stdout",
     "output_type": "stream",
     "text": [
      "juice 99\n",
      "pancakes 100\n"
     ]
    }
   ],
   "source": [
    "class tester:\n",
    "    def __init__(self, start):\n",
    "        self.state = start\n",
    "    def __call__(self, label): # notice __call__ here\n",
    "        print(label, self.state)\n",
    "        self.state += 1\n",
    "        \n",
    "H = tester(99)\n",
    "H('juice')\n",
    "H('pancakes')"
   ]
  },
  {
   "cell_type": "code",
   "execution_count": 53,
   "metadata": {},
   "outputs": [
    {
     "name": "stdout",
     "output_type": "stream",
     "text": [
      "spam 0\n",
      "ham 1\n",
      "2\n",
      "eggs 42\n",
      "ham 2\n",
      "3\n",
      "43\n"
     ]
    },
    {
     "data": {
      "text/plain": [
       "False"
      ]
     },
     "execution_count": 53,
     "metadata": {},
     "output_type": "execute_result"
    }
   ],
   "source": [
    "def tester(start):\n",
    "    def nested(label):\n",
    "        print(label, nested.state)\n",
    "        nested.state += 1\n",
    "    nested.state = start\n",
    "    return nested\n",
    "\n",
    "F = tester(0)\n",
    "F('spam')\n",
    "F('ham')\n",
    "\n",
    "print(F.state)\n",
    "\n",
    "G = tester(42)\n",
    "G('eggs')\n",
    "F('ham')\n",
    "\n",
    "print(F.state)\n",
    "print(G.state)"
   ]
  },
  {
   "cell_type": "code",
   "execution_count": 64,
   "metadata": {},
   "outputs": [
    {
     "name": "stdout",
     "output_type": "stream",
     "text": [
      "invalid literal for int() with base 10: 'abc'\n"
     ]
    },
    {
     "ename": "NameError",
     "evalue": "name 'X' is not defined",
     "output_type": "error",
     "traceback": [
      "\u001b[1;31m---------------------------------------------------------------------------\u001b[0m",
      "\u001b[1;31mNameError\u001b[0m                                 Traceback (most recent call last)",
      "\u001b[1;32m<ipython-input-64-f945f1a1b4cb>\u001b[0m in \u001b[0;36m<module>\u001b[1;34m\u001b[0m\n\u001b[0;32m      9\u001b[0m \u001b[1;33m\u001b[0m\u001b[0m\n\u001b[0;32m     10\u001b[0m \u001b[1;33m\u001b[0m\u001b[0m\n\u001b[1;32m---> 11\u001b[1;33m \u001b[0mprint\u001b[0m\u001b[1;33m(\u001b[0m\u001b[0mX\u001b[0m\u001b[1;33m)\u001b[0m \u001b[1;31m# will work on 2.x\u001b[0m\u001b[1;33m\u001b[0m\u001b[1;33m\u001b[0m\u001b[0m\n\u001b[0m",
      "\u001b[1;31mNameError\u001b[0m: name 'X' is not defined"
     ]
    }
   ],
   "source": [
    "# Check again in chapter 34\n",
    "\n",
    "X = 5\n",
    "\n",
    "try:\n",
    "    int(\"abc\")\n",
    "except ValueError as X:\n",
    "    print(X)\n",
    "\n",
    "    \n",
    "print(X) # will work on 2.x"
   ]
  },
  {
   "cell_type": "code",
   "execution_count": 65,
   "metadata": {},
   "outputs": [
    {
     "name": "stdout",
     "output_type": "stream",
     "text": [
      "[10, 11, 12, 13, 14]\n",
      "[1, 2, 3]\n"
     ]
    }
   ],
   "source": [
    "X = [1,2,3]\n",
    "\n",
    "print([X for X in range(10, 15)])\n",
    "      \n",
    "\n",
    "print(X)"
   ]
  },
  {
   "cell_type": "code",
   "execution_count": 69,
   "metadata": {},
   "outputs": [
    {
     "name": "stdout",
     "output_type": "stream",
     "text": [
      "spam\n"
     ]
    },
    {
     "ename": "AttributeError",
     "evalue": "'NoneType' object has no attribute 'func2'",
     "output_type": "error",
     "traceback": [
      "\u001b[1;31m---------------------------------------------------------------------------\u001b[0m",
      "\u001b[1;31mAttributeError\u001b[0m                            Traceback (most recent call last)",
      "\u001b[1;32m<ipython-input-69-a71ec4fb9732>\u001b[0m in \u001b[0;36m<module>\u001b[1;34m\u001b[0m\n\u001b[0;32m      5\u001b[0m \u001b[1;33m\u001b[0m\u001b[0m\n\u001b[0;32m      6\u001b[0m \u001b[1;31m#func1.func2()\u001b[0m\u001b[1;33m\u001b[0m\u001b[1;33m\u001b[0m\u001b[1;33m\u001b[0m\u001b[0m\n\u001b[1;32m----> 7\u001b[1;33m \u001b[0mfunc1\u001b[0m\u001b[1;33m(\u001b[0m\u001b[1;33m)\u001b[0m\u001b[1;33m.\u001b[0m\u001b[0mfunc2\u001b[0m\u001b[1;33m(\u001b[0m\u001b[1;33m)\u001b[0m\u001b[1;33m\u001b[0m\u001b[1;33m\u001b[0m\u001b[0m\n\u001b[0m",
      "\u001b[1;31mAttributeError\u001b[0m: 'NoneType' object has no attribute 'func2'"
     ]
    }
   ],
   "source": [
    "def func1():\n",
    "    def func2():\n",
    "        print('spam')\n",
    "    func2()\n",
    "\n",
    "#func1.func2()\n",
    "#func1().func2()"
   ]
  },
  {
   "cell_type": "code",
   "execution_count": null,
   "metadata": {},
   "outputs": [],
   "source": []
  }
 ],
 "metadata": {
  "kernelspec": {
   "display_name": "Python 3",
   "language": "python",
   "name": "python3"
  },
  "language_info": {
   "codemirror_mode": {
    "name": "ipython",
    "version": 3
   },
   "file_extension": ".py",
   "mimetype": "text/x-python",
   "name": "python",
   "nbconvert_exporter": "python",
   "pygments_lexer": "ipython3",
   "version": "3.7.3"
  }
 },
 "nbformat": 4,
 "nbformat_minor": 4
}
