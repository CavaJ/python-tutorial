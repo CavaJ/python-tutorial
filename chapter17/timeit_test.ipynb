{
 "cells": [
  {
   "cell_type": "code",
   "execution_count": null,
   "metadata": {},
   "outputs": [],
   "source": [
    "S = \"\"\"\n",
    "And let’s end all this nonsense about how long sentences = run-on sentences. You can have a six-word run-on sentence (“I went shopping I ate donuts.”), while most of the sentences below are much, much longer than that and are not run-ons (except for a few examples like Jose Saramago).  But whether the sentence is grammatically correct isn’t nearly as important as whether the sentence is fun or beautiful.\n",
    "I hope that a study of very long sentences will arm you with strategies that are almost as diverse as the sentences themselves, such as: starting each clause with the same word, tilting with dependent clauses toward a revelation at the end, padding with parentheticals, showing great latitude toward standard punctuation, rabbit-trailing away from the initial subject, encapsulating an entire life, and lastly, as this sentence is, celebrating the list.\n",
    "\"\"\""
   ]
  },
  {
   "cell_type": "code",
   "execution_count": null,
   "metadata": {},
   "outputs": [],
   "source": [
    "%%timeit\n",
    "\n",
    "\n",
    "ords = []\n",
    "for c in S: ords.append(ord(c))\n",
    "print(ords)"
   ]
  },
  {
   "cell_type": "code",
   "execution_count": null,
   "metadata": {},
   "outputs": [],
   "source": [
    "%%timeit\n",
    "\n",
    "\n",
    "print([ord(c) for c in S])"
   ]
  },
  {
   "cell_type": "code",
   "execution_count": null,
   "metadata": {},
   "outputs": [],
   "source": [
    "%%timeit\n",
    "\n",
    "\n",
    "print(list(map(ord, S)))"
   ]
  },
  {
   "cell_type": "code",
   "execution_count": null,
   "metadata": {},
   "outputs": [],
   "source": [
    "def func1():\n",
    "    X = '1'\n",
    "    def func2():\n",
    "        X = '2'\n",
    "        def func3():\n",
    "            print(X)\n",
    "        func3()\n",
    "    func2()\n",
    "\n",
    "func1()"
   ]
  },
  {
   "cell_type": "code",
   "execution_count": null,
   "metadata": {},
   "outputs": [],
   "source": [
    "def f1(): \n",
    "    X = 88\n",
    "    def f2():\n",
    "        print(X)\n",
    "    return f2\n",
    "\n",
    "print(f1() is f1())\n",
    "print(f1() == f1())"
   ]
  },
  {
   "cell_type": "code",
   "execution_count": null,
   "metadata": {},
   "outputs": [],
   "source": [
    "action = f1\n",
    "action = f1()\n",
    "action()"
   ]
  },
  {
   "cell_type": "code",
   "execution_count": null,
   "metadata": {},
   "outputs": [],
   "source": [
    "def maker(N):\n",
    "    def action(X):\n",
    "        return X ** N\n",
    "    return action\n",
    "\n",
    "f = maker(2)\n",
    "g = maker(2)\n",
    "\n",
    "print(f(3))\n",
    "\n",
    "print(f is g)\n",
    "print(f == g)\n",
    "\n",
    "print(f)\n",
    "print(g)"
   ]
  },
  {
   "cell_type": "code",
   "execution_count": null,
   "metadata": {},
   "outputs": [],
   "source": [
    "def z_func():\n",
    "    x = 1\n",
    "    y = 2\n",
    "    z_func.attr1 = \"Zeki\"\n",
    "    z_func.attr2 = \"Zack\"\n",
    "\n",
    "\n",
    "#z_func.attr1 = \"Zeki\"\n",
    "#z_func.attr2 = \"Zack\"\n",
    "\n",
    "dir(z_func)"
   ]
  },
  {
   "cell_type": "code",
   "execution_count": null,
   "metadata": {},
   "outputs": [],
   "source": [
    "def func1():\n",
    "    X = 5\n",
    "    class Person:\n",
    "        def __init__(self, name, age):\n",
    "            self.name = name\n",
    "            self.age = age\n",
    "            self.X = X\n",
    "    return Person(\"Zack\", 20)\n",
    "\n",
    "p = func1()\n",
    "print(p.name, \",\",  p.age, \",\", p.X )"
   ]
  },
  {
   "cell_type": "code",
   "execution_count": null,
   "metadata": {},
   "outputs": [],
   "source": [
    "def f1(): \n",
    "    x = 88\n",
    "    def f2(x=x): \n",
    "        print(x)\n",
    "    return f2\n",
    "    \n",
    "action = f1()\n",
    "action()"
   ]
  },
  {
   "cell_type": "code",
   "execution_count": null,
   "metadata": {},
   "outputs": [],
   "source": [
    "def f1(): \n",
    "    x = 88\n",
    "    def f2(): \n",
    "        print(x)\n",
    "    return f2\n",
    "    \n",
    "action = f1()\n",
    "action()"
   ]
  },
  {
   "cell_type": "code",
   "execution_count": null,
   "metadata": {},
   "outputs": [],
   "source": [
    "def func(): \n",
    "    x = 4\n",
    "    action = (lambda n: x ** n) \n",
    "    return action\n",
    "\n",
    "x = func()\n",
    "print(x(2))"
   ]
  },
  {
   "cell_type": "code",
   "execution_count": null,
   "metadata": {},
   "outputs": [],
   "source": [
    "def func(n):\n",
    "    x = 4\n",
    "    action = (lambda : x ** n)\n",
    "    return action\n",
    "\n",
    "x = func(2)\n",
    "print(x())"
   ]
  },
  {
   "cell_type": "code",
   "execution_count": null,
   "metadata": {},
   "outputs": [],
   "source": [
    "def func():\n",
    "    action = (lambda x, n: x ** n)\n",
    "    return action\n",
    "\n",
    "x = func()\n",
    "print(x(4,2))"
   ]
  },
  {
   "cell_type": "code",
   "execution_count": null,
   "metadata": {},
   "outputs": [],
   "source": [
    "L = [(lambda x, n: x ** n), (lambda x: print(x))]\n",
    "\n",
    "\n",
    "print(L[0](4,2))\n",
    "L[1](5)"
   ]
  },
  {
   "cell_type": "code",
   "execution_count": null,
   "metadata": {},
   "outputs": [],
   "source": [
    "def makeActions(): \n",
    "    acts = []\n",
    "    for i in range(5):\n",
    "        acts.append(lambda x, i=i: i ** x)\n",
    "    return acts\n",
    "\n",
    "acts = makeActions()\n",
    "for act in acts:\n",
    "    print(act(2))"
   ]
  },
  {
   "cell_type": "code",
   "execution_count": null,
   "metadata": {},
   "outputs": [],
   "source": []
  },
  {
   "cell_type": "code",
   "execution_count": null,
   "metadata": {},
   "outputs": [],
   "source": []
  },
  {
   "cell_type": "code",
   "execution_count": null,
   "metadata": {},
   "outputs": [],
   "source": []
  },
  {
   "cell_type": "code",
   "execution_count": null,
   "metadata": {},
   "outputs": [],
   "source": []
  },
  {
   "cell_type": "code",
   "execution_count": null,
   "metadata": {},
   "outputs": [],
   "source": []
  },
  {
   "cell_type": "code",
   "execution_count": null,
   "metadata": {},
   "outputs": [],
   "source": []
  },
  {
   "cell_type": "code",
   "execution_count": null,
   "metadata": {},
   "outputs": [],
   "source": []
  },
  {
   "cell_type": "code",
   "execution_count": null,
   "metadata": {},
   "outputs": [],
   "source": []
  },
  {
   "cell_type": "code",
   "execution_count": null,
   "metadata": {},
   "outputs": [],
   "source": []
  },
  {
   "cell_type": "code",
   "execution_count": null,
   "metadata": {},
   "outputs": [],
   "source": []
  },
  {
   "cell_type": "code",
   "execution_count": null,
   "metadata": {},
   "outputs": [],
   "source": []
  },
  {
   "cell_type": "code",
   "execution_count": null,
   "metadata": {},
   "outputs": [],
   "source": [
    "def factory():\n",
    "    L = ['spam', 'ham', 'eggs', 'bacon', 'tuna']\n",
    "    lambdas = []\n",
    "    for (i, e) in enumerate(L):\n",
    "        lambdas.append(lambda  x, i=i, e=e: print(i, x, e))\n",
    "    return lambdas\n",
    "\n",
    "actions = factory()\n",
    "#type(actions)\n",
    "\n",
    "for action in actions:\n",
    "    #print(type(action))\n",
    "    action('=>')"
   ]
  },
  {
   "cell_type": "code",
   "execution_count": null,
   "metadata": {},
   "outputs": [],
   "source": [
    "def func():\n",
    "    global x; x = 'new'\n",
    "    \n",
    "func()\n",
    "print(x)"
   ]
  },
  {
   "cell_type": "code",
   "execution_count": null,
   "metadata": {},
   "outputs": [],
   "source": [
    "def func1():\n",
    "    x = 'old'\n",
    "    def func2():\n",
    "        nonlocal x; x = 'new'\n",
    "        print(x)\n",
    "    func2()\n",
    "\n",
    "func1()"
   ]
  },
  {
   "cell_type": "code",
   "execution_count": null,
   "metadata": {},
   "outputs": [],
   "source": [
    "def func1(): \n",
    "    name1, name2 = 'Zack', 'Tornero'\n",
    "    def func2():\n",
    "        nonlocal name1, name2\n",
    "        name1 = 'Zeki'\n",
    "        name2 = \"Zekeriyyeli\"\n",
    "        print(name1, name2, sep=' <=> ')\n",
    "    func2()\n",
    "\n",
    "func1()"
   ]
  },
  {
   "cell_type": "code",
   "execution_count": null,
   "metadata": {},
   "outputs": [],
   "source": [
    "global x; x = 'new'\n",
    "\n",
    "print(x)"
   ]
  },
  {
   "cell_type": "code",
   "execution_count": null,
   "metadata": {},
   "outputs": [],
   "source": [
    "def func1():\n",
    "    counter = 1\n",
    "    def func2():\n",
    "        nonlocal counter\n",
    "        print(counter)\n",
    "        counter += 1\n",
    "    return func2\n",
    "\n",
    "z = func1()\n",
    "for i in range(3):\n",
    "    z()"
   ]
  },
  {
   "cell_type": "code",
   "execution_count": null,
   "metadata": {},
   "outputs": [],
   "source": []
  },
  {
   "cell_type": "code",
   "execution_count": 98,
   "metadata": {},
   "outputs": [
    {
     "name": "stdout",
     "output_type": "stream",
     "text": [
      "['Z']\n",
      "['Z', 'A']\n",
      "['Z', 'A', 'B']\n",
      "['Z', 'A', 'B', 'K']\n",
      "['Z', 'A', 'B', 'K', 'F']\n"
     ]
    }
   ],
   "source": [
    "def func1():\n",
    "    L = []\n",
    "    def func2(x):\n",
    "        #nonlocal L\n",
    "        #L = [1,2,3]\n",
    "        L.append(x)\n",
    "        print(L)\n",
    "    return func2\n",
    "        \n",
    "appending =  func1()\n",
    "# appending('Zeki')\n",
    "L2 = ['Z', 'A', 'B', 'K', 'F']\n",
    "for c in L2:\n",
    "    appending(c)"
   ]
  },
  {
   "cell_type": "code",
   "execution_count": null,
   "metadata": {},
   "outputs": [],
   "source": []
  },
  {
   "cell_type": "code",
   "execution_count": null,
   "metadata": {},
   "outputs": [],
   "source": [
    "def func1():\n",
    "    import random\n",
    "    random.seed(1)\n",
    "    def func2():\n",
    "        def func3():\n",
    "            print(random.random())\n",
    "        return func3\n",
    "    return func2()\n",
    "\n",
    "name = func1()\n",
    "for i in range(10):\n",
    "    name()\n",
    "    \n",
    "\n",
    "#print(func1)\n",
    "#func1()()"
   ]
  },
  {
   "cell_type": "code",
   "execution_count": null,
   "metadata": {},
   "outputs": [],
   "source": []
  },
  {
   "cell_type": "code",
   "execution_count": null,
   "metadata": {},
   "outputs": [],
   "source": [
    "def tester(start):\n",
    "    state = start\n",
    "    def nested(label):\n",
    "        nonlocal state\n",
    "        print(label, state)\n",
    "        state += 1\n",
    "    return nested\n",
    "\n",
    "\n",
    "F = tester(1)\n",
    "L = ['spam', 'ham', 'eggs', 'bacon', 'banana']\n",
    "\n",
    "G = tester(1)\n",
    "\n",
    "G('spam')\n",
    "G('ham')\n",
    "F('spam')\n",
    "F('ham')\n",
    "\n",
    "H = tester(1)\n",
    "H('spam')"
   ]
  },
  {
   "cell_type": "code",
   "execution_count": null,
   "metadata": {},
   "outputs": [],
   "source": []
  },
  {
   "cell_type": "code",
   "execution_count": null,
   "metadata": {},
   "outputs": [],
   "source": [
    "def func1():\n",
    "    ...\n",
    "    def func2():\n",
    "        ...\n",
    "        def func3():\n",
    "            ...\n",
    "            def func4():\n",
    "                print(\"Achieved\")\n",
    "            return func4\n",
    "        return func3\n",
    "    return func2\n",
    "       \n",
    "\n",
    "\n",
    "\n",
    "#type(func3()) -> <function>\n",
    "\n",
    "#Task 1, achieve calling func4 directly from global scope without getting reference to it\n",
    "\n",
    "#func1()\n",
    "\n",
    "#Task 2 get a reference to func4 in a global scope and call it\n",
    "\n",
    "#action = func1()\n",
    "#action()\n",
    "\n",
    "#Task 3 call func4 with multiple () from the global scope\n",
    "func1()()()()"
   ]
  },
  {
   "cell_type": "code",
   "execution_count": null,
   "metadata": {},
   "outputs": [],
   "source": [
    "from fractions import Fraction\n",
    "print(Fraction(2, 3))"
   ]
  },
  {
   "cell_type": "code",
   "execution_count": 83,
   "metadata": {},
   "outputs": [
    {
     "name": "stdout",
     "output_type": "stream",
     "text": [
      "Zack, Tornero, 20\n",
      "Sleeping...\n",
      "Hi...\n"
     ]
    },
    {
     "data": {
      "text/plain": [
       "__main__.Person"
      ]
     },
     "execution_count": 83,
     "metadata": {},
     "output_type": "execute_result"
    }
   ],
   "source": [
    "class Person:\n",
    "    def __init__(self, name, surname, age):\n",
    "        self.name = name\n",
    "        self.surname = surname\n",
    "        self.age = age\n",
    "    \n",
    "    def sleep(self):\n",
    "        print('Sleeping...')\n",
    "    def sayHi(self):\n",
    "        print('Hi...')\n",
    "    \n",
    "    def __str__(self):\n",
    "        return str(self.name) + \", \" + str(self.surname) + \", \"  + str(self.age) #str(dir(self))\n",
    "\n",
    "p1 = Person('Zack', 'Tornero', 20)\n",
    "print(p1)\n",
    "p1.sleep()\n",
    "p1.sayHi()"
   ]
  },
  {
   "cell_type": "code",
   "execution_count": 96,
   "metadata": {},
   "outputs": [
    {
     "name": "stdout",
     "output_type": "stream",
     "text": [
      "spam 0\n",
      "ham 1\n"
     ]
    }
   ],
   "source": [
    "class tester:\n",
    "    def __init__(self, start):\n",
    "        self.state = start\n",
    "        \n",
    "    #def nested(self, label):\n",
    "    #    print(label, self.state)\n",
    "    #    self.state += 1\n",
    "    \n",
    "    def __call__(self, label):\n",
    "        print(label, self.state)\n",
    "        self.state += 1\n",
    "\n",
    "\n",
    "F = tester(0)\n",
    "F('spam')\n",
    "F('ham')"
   ]
  },
  {
   "cell_type": "code",
   "execution_count": 97,
   "metadata": {},
   "outputs": [
    {
     "name": "stdout",
     "output_type": "stream",
     "text": [
      "spam 5\n"
     ]
    }
   ],
   "source": [
    "def tester(start): \n",
    "    def nested(label):\n",
    "        nested2(label)\n",
    "        \n",
    "    def nested2(label):\n",
    "        print(label, x)\n",
    "        \n",
    "    x = 5\n",
    "    return nested\n",
    "\n",
    "\n",
    "F = tester(10)\n",
    "F('spam')"
   ]
  },
  {
   "cell_type": "code",
   "execution_count": null,
   "metadata": {},
   "outputs": [],
   "source": []
  }
 ],
 "metadata": {
  "kernelspec": {
   "display_name": "Python 3",
   "language": "python",
   "name": "python3"
  },
  "language_info": {
   "codemirror_mode": {
    "name": "ipython",
    "version": 3
   },
   "file_extension": ".py",
   "mimetype": "text/x-python",
   "name": "python",
   "nbconvert_exporter": "python",
   "pygments_lexer": "ipython3",
   "version": "3.7.3"
  }
 },
 "nbformat": 4,
 "nbformat_minor": 4
}
