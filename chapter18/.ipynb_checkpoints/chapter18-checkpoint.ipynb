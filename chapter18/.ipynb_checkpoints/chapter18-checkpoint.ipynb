{
 "cells": [
  {
   "cell_type": "code",
   "execution_count": null,
   "metadata": {},
   "outputs": [],
   "source": [
    "def multiple(x, y):\n",
    "    x = 2\n",
    "    y = [3,4]\n",
    "    return x, y\n",
    "\n",
    "X = 1\n",
    "L = [1, 2]\n",
    "X, L = multiple(X, L)\n",
    "\n",
    "X, L"
   ]
  },
  {
   "cell_type": "code",
   "execution_count": 15,
   "metadata": {},
   "outputs": [
    {
     "name": "stdout",
     "output_type": "stream",
     "text": [
      "spam 0\n",
      "ham 0\n",
      "eggs 0\n",
      "bacon 0\n",
      "banana 0\n"
     ]
    }
   ],
   "source": [
    "def tester(start):\n",
    "    def nested(label, state = start):\n",
    "        print(label, state)\n",
    "        state += 1 # you change the object reference in a local variable state, therefore increment does not appear in print\n",
    "    return nested\n",
    "\n",
    "F = tester(0)\n",
    "L = ['spam', 'ham', 'eggs', 'bacon', 'banana']\n",
    "for e in L:\n",
    "    F(e)"
   ]
  },
  {
   "cell_type": "code",
   "execution_count": 14,
   "metadata": {},
   "outputs": [
    {
     "name": "stdout",
     "output_type": "stream",
     "text": [
      "spam 0\n",
      "ham 1\n",
      "eggs 2\n",
      "bacon 3\n",
      "banana 4\n"
     ]
    }
   ],
   "source": [
    "def tester(start):\n",
    "    def nested(label, state = [start]):\n",
    "        print(label, state[0])\n",
    "        state[0] += 1 # however this works, because object reference does not change\n",
    "    return nested\n",
    "\n",
    "F = tester(0)\n",
    "L = ['spam', 'ham', 'eggs', 'bacon', 'banana']\n",
    "for e in L:\n",
    "    F(e)"
   ]
  },
  {
   "cell_type": "code",
   "execution_count": null,
   "metadata": {},
   "outputs": [],
   "source": [
    "def f(*args): \n",
    "    for arg in args:\n",
    "        print(arg)\n",
    "\n",
    "f()\n",
    "f(1,2,3)"
   ]
  },
  {
   "cell_type": "code",
   "execution_count": null,
   "metadata": {},
   "outputs": [],
   "source": [
    "def f(**args): \n",
    "    print(args)\n",
    "\n",
    "f()\n",
    "f(a=1, b=2)"
   ]
  },
  {
   "cell_type": "code",
   "execution_count": null,
   "metadata": {},
   "outputs": [],
   "source": [
    "def f(a, *pargs, **kargs):\n",
    "    print(a, pargs, kargs)\n",
    "\n",
    "f(2, 3, 4, x=1, y=2)"
   ]
  },
  {
   "cell_type": "code",
   "execution_count": null,
   "metadata": {},
   "outputs": [],
   "source": [
    "def f(a, b = 'a', c = 'd', *pargs, **kargs):\n",
    "    print(a, b, c, pargs, kargs)\n",
    "\n",
    "f(2, 3, 4, 5, 6, x=1, y=2)"
   ]
  },
  {
   "cell_type": "code",
   "execution_count": null,
   "metadata": {},
   "outputs": [],
   "source": [
    "def func(a, b, c, d): print(a,b,c,d)\n",
    "    \n",
    "args = (1,2)\n",
    "args += (3,4) # which operator is += equivalent here?\n",
    "\n",
    "func(*args)"
   ]
  },
  {
   "cell_type": "code",
   "execution_count": null,
   "metadata": {},
   "outputs": [],
   "source": [
    "args = {'a':1, 'b':2, 'c':3}\n",
    "args['d'] = 4\n",
    "\n",
    "func(**args) # unpacks dictionary to keyword arguments"
   ]
  },
  {
   "cell_type": "code",
   "execution_count": null,
   "metadata": {},
   "outputs": [],
   "source": [
    "func(*(1,2), **{'d':4, 'c':3})"
   ]
  },
  {
   "cell_type": "code",
   "execution_count": null,
   "metadata": {},
   "outputs": [],
   "source": [
    "# *iterable form and keyword arguments can be used in the interchangeable positions\n",
    "func(1, *(2,3), d = 4)\n",
    "func(1, d=4, *(2,3)) # *(2,3) matches any leftover positional arguments\n",
    "#func(d = 4, 1, *(2,3))"
   ]
  },
  {
   "cell_type": "code",
   "execution_count": null,
   "metadata": {},
   "outputs": [],
   "source": [
    "#func(1, **{'d':4, 'c':3}, *(2,))"
   ]
  },
  {
   "cell_type": "code",
   "execution_count": null,
   "metadata": {},
   "outputs": [],
   "source": [
    "x, *y = [1, 2, 3, 4]\n",
    "x, y"
   ]
  },
  {
   "cell_type": "code",
   "execution_count": null,
   "metadata": {},
   "outputs": [],
   "source": [
    "# write a function to print arbitrary positional and keyword arguments together (one by one in a tuple/list for example)\n",
    "def func_any(*pargs, **kargs):\n",
    "    #print(type(pargs), type(kargs))\n",
    "    L = []\n",
    "    for parg in pargs:\n",
    "        try:\n",
    "            len(parg)\n",
    "            \n",
    "            try:\n",
    "                vals = parg.values()\n",
    "                for val in vals: L.append(val)\n",
    "                    \n",
    "            except AttributeError:\n",
    "                for item in parg: L.append(item)\n",
    "                    \n",
    "        except TypeError:\n",
    "            L.append(parg)\n",
    "    L.extend([val for val in kargs.values()])\n",
    "    print(L)\n",
    "    \n",
    "func_any(1, ['spam', [(1,2), (3,4)], 'ham'], {'name': 'Zeki', 'age': 20}, 3, a = 4, b = 5, c = 6)"
   ]
  },
  {
   "cell_type": "code",
   "execution_count": null,
   "metadata": {},
   "outputs": [],
   "source": [
    "def f(a, *b, c=6, **d): print(a, b, c, d)\n",
    "#def f(a, c=6, *b, **d): print(a, b, c, d)\n",
    "\n",
    "f(1, 2, 3, x=4)"
   ]
  },
  {
   "cell_type": "code",
   "execution_count": null,
   "metadata": {},
   "outputs": [],
   "source": [
    "def changer(a, b): \n",
    "    a = 2\n",
    "    b[0] = 'spam'\n",
    "\n",
    "\n",
    "X = 1\n",
    "L = [1, 2] \n",
    "changer(X, L[:])"
   ]
  },
  {
   "cell_type": "code",
   "execution_count": null,
   "metadata": {},
   "outputs": [],
   "source": [
    "(b, c) = [2, 3]\n",
    "(b, c) = 'lm'\n",
    "[b, c] = (2,3)"
   ]
  },
  {
   "cell_type": "code",
   "execution_count": null,
   "metadata": {},
   "outputs": [],
   "source": [
    "def z(*other, name):\n",
    "    print(other, name)\n",
    "\n",
    "def n(*, name):\n",
    "    print(name)\n",
    "\n",
    "z('Zack')\n",
    "n('Nelly')"
   ]
  },
  {
   "cell_type": "code",
   "execution_count": null,
   "metadata": {},
   "outputs": [],
   "source": [
    "len(5)"
   ]
  },
  {
   "cell_type": "code",
   "execution_count": null,
   "metadata": {},
   "outputs": [],
   "source": [
    "def func(a, b, c = 3, d = 4):\n",
    "    print(a, b, c, d)\n",
    "\n",
    "func(1, c = 5, *(2,), d = 6)\n",
    "func(1, *(2,), c = 5, d = 6)\n",
    "func(1, c = 5, d = 6, *(2,))\n",
    "\n",
    "#func(1, *(2,), c = 5)"
   ]
  },
  {
   "cell_type": "code",
   "execution_count": null,
   "metadata": {},
   "outputs": [],
   "source": [
    "def f(a, b, c): print(a, b, c)\n",
    "    \n",
    "f(1, 2, 3)\n",
    "f(c = 3, b = 2, a = 1)\n",
    "f(*[1, 2, 3])\n",
    "f(**{'a':1, 'b':2, 'c':3})\n",
    "f(1, *(2, 3))\n",
    "f(1, **{'b':2, 'c':3})\n",
    "f(1, *(2,), **{'c':3})\n",
    "f(*(1,2), **{'c':3})\n",
    "f(1, 2, **{'c':3})\n",
    "f(1, 2, c = 3)"
   ]
  },
  {
   "cell_type": "code",
   "execution_count": 28,
   "metadata": {},
   "outputs": [
    {
     "name": "stdout",
     "output_type": "stream",
     "text": [
      "()\n",
      "(1,)\n",
      "(1, 2, 3)\n",
      "([1, 2, 3],)\n"
     ]
    }
   ],
   "source": [
    "def f(*args): print(args)\n",
    "    \n",
    "\n",
    "f()\n",
    "f(1)\n",
    "f(*[1, 2, 3])\n",
    "\n",
    "f([1, 2, 3])"
   ]
  },
  {
   "cell_type": "code",
   "execution_count": 30,
   "metadata": {},
   "outputs": [
    {
     "name": "stdout",
     "output_type": "stream",
     "text": [
      "{}\n",
      "{'a': 1, 'b': 2}\n"
     ]
    }
   ],
   "source": [
    "def f(**args): print(args)\n",
    "    \n",
    "\n",
    "f()\n",
    "f(**{'a':1, 'b':2})"
   ]
  },
  {
   "cell_type": "code",
   "execution_count": 55,
   "metadata": {},
   "outputs": [
    {
     "name": "stdout",
     "output_type": "stream",
     "text": [
      "1\n",
      "2\n",
      "3\n",
      "x 1\n",
      "y 2\n"
     ]
    }
   ],
   "source": [
    "def f(a, *pargs, **kargs): \n",
    "    #print(a, pargs, kargs)\n",
    "    print(a)\n",
    "    for parg in pargs: print(parg)\n",
    "    for k,v in kargs.items(): print(k, v)\n",
    "    \n",
    "\n",
    "#f()\n",
    "#f(1)\n",
    "#f(a=10, *(1,2), *(3,4), **{'e':5}, **{'c':1, 'd':2}) => should be reported to Python team\n",
    "\n",
    "f(1, 2, 3, x=1, y=2)"
   ]
  },
  {
   "cell_type": "code",
   "execution_count": 19,
   "metadata": {},
   "outputs": [
    {
     "name": "stdout",
     "output_type": "stream",
     "text": [
      "1 2 3 4\n",
      "1 2 3 4\n",
      "1 2 3 4\n",
      "1 2 3 4\n"
     ]
    }
   ],
   "source": [
    "def func(a=1, b=2, c=3, d=4): print(a, b, c, d)\n",
    "    \n",
    "\n",
    "#args = (1, 2)\n",
    "#args += (3, 4)\n",
    "\n",
    "#func(*args)\n",
    "\n",
    "\n",
    "# kargs = {'a':1, 'b':2, 'c':3}\n",
    "# kargs['d'] = 4\n",
    "\n",
    "# func(**kargs) #=> a=1, b=2, c=3, d=4\n",
    "\n",
    "\n",
    "\n",
    "#l, m, o, p = args\n",
    "#l, *m = args\n",
    "#print(l, m)\n",
    "\n",
    "\n",
    "\n",
    "func(*(1,2), **{'d':4, 'c':3}) #=> func(1, 2, d = 4, c = 3)\n",
    "func(1, *(2,3), **{'d':4}) #=> func(1, 2, 3, d = 4)\n",
    "func(1, c=3, *(2,), **{'d': 4}) #=> func(1, 2, c = 3, d = 4)\n",
    "func(1, d = 4, *(2,3)) #=> func(1, 2, 3, d=4)"
   ]
  },
  {
   "cell_type": "code",
   "execution_count": 20,
   "metadata": {},
   "outputs": [
    {
     "name": "stdout",
     "output_type": "stream",
     "text": [
      "(0, 1, 2) {'c': 5, 'a': 3, 'b': 4}\n"
     ]
    }
   ],
   "source": [
    "def echo(*args, **kwargs): print(args, kwargs)\n",
    "\n",
    "    \n",
    "pargs = (1, 2)\n",
    "kargs = {'a':3, 'b':4}\n",
    "\n",
    "\n",
    "echo(0, c=5, *pargs, **kargs) #=> echo(0, 1, 2, c = 5, a = 3, b = 4)"
   ]
  },
  {
   "cell_type": "code",
   "execution_count": 21,
   "metadata": {},
   "outputs": [
    {
     "name": "stdout",
     "output_type": "stream",
     "text": [
      "1 (2, 3) 4\n"
     ]
    }
   ],
   "source": [
    "def kwonly(a, *b, c): print(a, b, c)\n",
    "    \n",
    "\n",
    "kwonly(1, 2, 3, c=4)"
   ]
  },
  {
   "cell_type": "code",
   "execution_count": 22,
   "metadata": {},
   "outputs": [
    {
     "data": {
      "text/plain": [
       "[[2, 2], [1, 1], [3, 3]]"
      ]
     },
     "execution_count": 22,
     "metadata": {},
     "output_type": "execute_result"
    }
   ],
   "source": [
    "args = ([2,2], [1,1], [3,3])\n",
    "list(args) #=> [[2,2], [1,1], [3,3]]"
   ]
  },
  {
   "cell_type": "code",
   "execution_count": 24,
   "metadata": {},
   "outputs": [
    {
     "name": "stdout",
     "output_type": "stream",
     "text": [
      "Help on method_descriptor:\n",
      "\n",
      "sort(self, /, *, key=None, reverse=False)\n",
      "    Stable sort *IN PLACE*.\n",
      "\n"
     ]
    }
   ],
   "source": [
    "help(list.sort)"
   ]
  },
  {
   "cell_type": "code",
   "execution_count": null,
   "metadata": {},
   "outputs": [],
   "source": []
  }
 ],
 "metadata": {
  "kernelspec": {
   "display_name": "Python 3",
   "language": "python",
   "name": "python3"
  },
  "language_info": {
   "codemirror_mode": {
    "name": "ipython",
    "version": 3
   },
   "file_extension": ".py",
   "mimetype": "text/x-python",
   "name": "python",
   "nbconvert_exporter": "python",
   "pygments_lexer": "ipython3",
   "version": "3.7.3"
  }
 },
 "nbformat": 4,
 "nbformat_minor": 4
}
